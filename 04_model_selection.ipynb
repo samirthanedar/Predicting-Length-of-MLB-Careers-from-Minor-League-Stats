{
 "cells": [
  {
   "cell_type": "code",
   "execution_count": 1,
   "metadata": {},
   "outputs": [],
   "source": [
    "import pickle\n",
    "import numpy as np\n",
    "import pandas as pd\n",
    "import requests\n",
    "import math\n",
    "import seaborn as sns\n",
    "\n",
    "\n",
    "from sklearn.model_selection import train_test_split\n",
    "from sklearn.linear_model import LinearRegression, Lasso, LassoCV, Ridge, RidgeCV\n",
    "from sklearn.metrics import r2_score\n",
    "from sklearn.model_selection import KFold\n",
    "\n",
    "import statsmodels.api as sm\n",
    "import statsmodels.formula.api as smf\n",
    "import patsy\n",
    "\n",
    "from sklearn.preprocessing import StandardScaler\n",
    "import seaborn as sns\n",
    "import matplotlib.pyplot as plt\n",
    "%matplotlib inline"
   ]
  },
  {
   "cell_type": "markdown",
   "metadata": {},
   "source": [
    "# Loading Data:"
   ]
  },
  {
   "cell_type": "code",
   "execution_count": 279,
   "metadata": {},
   "outputs": [],
   "source": [
    "with open('per_season_mlb_eda_ready.pkl', 'rb') as handle:\n",
    "    df = pickle.load(handle)"
   ]
  },
  {
   "cell_type": "code",
   "execution_count": 280,
   "metadata": {},
   "outputs": [
    {
     "name": "stdout",
     "output_type": "stream",
     "text": [
      "<class 'pandas.core.frame.DataFrame'>\n",
      "Index: 1151 entries, Larry Barnes to Lenny Webster\n",
      "Data columns (total 17 columns):\n",
      " #   Column                   Non-Null Count  Dtype  \n",
      "---  ------                   --------------  -----  \n",
      " 0   MINORS_OPS               1151 non-null   float32\n",
      " 1   MLB_AB_per_season        1151 non-null   float64\n",
      " 2   MINORS_R_per_AB          1151 non-null   float64\n",
      " 3   MINORS_SO_per_AB         1151 non-null   float64\n",
      " 4   Draft                    1151 non-null   float64\n",
      " 5   School                   1151 non-null   float64\n",
      " 6   Debut_Age                1151 non-null   float64\n",
      " 7   Position_Catcher         1151 non-null   float64\n",
      " 8   Position_First_Baseman   1151 non-null   float64\n",
      " 9   Position_Outfielder      1151 non-null   float64\n",
      " 10  Position_Second_Baseman  1151 non-null   float64\n",
      " 11  Position_Shortstop       1151 non-null   float64\n",
      " 12  Position_Third_Baseman   1151 non-null   float64\n",
      " 13  Bats_Both                1151 non-null   float64\n",
      " 14  Bats_Left                1151 non-null   float64\n",
      " 15  Bats_Right               1151 non-null   float64\n",
      " 16  bmi                      1151 non-null   float64\n",
      "dtypes: float32(1), float64(16)\n",
      "memory usage: 157.4+ KB\n"
     ]
    }
   ],
   "source": [
    "#lets make sure there are no nulls\n",
    "df.info()"
   ]
  },
  {
   "cell_type": "code",
   "execution_count": 281,
   "metadata": {},
   "outputs": [],
   "source": [
    "#splitting the data into X and Y and train and test\n",
    "X, y = df.drop(columns =['MLB_AB_per_season']), df['MLB_AB_per_season']\n",
    "X_train, X_test, y_train, y_test = train_test_split(X, y, test_size= 0.2, random_state = 12)\n",
    "model = sm.OLS(y_train, X_train)\n",
    "fit1 = model.fit()"
   ]
  },
  {
   "cell_type": "code",
   "execution_count": 282,
   "metadata": {},
   "outputs": [
    {
     "data": {
      "text/html": [
       "<table class=\"simpletable\">\n",
       "<caption>OLS Regression Results</caption>\n",
       "<tr>\n",
       "  <th>Dep. Variable:</th>    <td>MLB_AB_per_season</td> <th>  R-squared:         </th> <td>   0.369</td> \n",
       "</tr>\n",
       "<tr>\n",
       "  <th>Model:</th>                   <td>OLS</td>        <th>  Adj. R-squared:    </th> <td>   0.359</td> \n",
       "</tr>\n",
       "<tr>\n",
       "  <th>Method:</th>             <td>Least Squares</td>   <th>  F-statistic:       </th> <td>   37.80</td> \n",
       "</tr>\n",
       "<tr>\n",
       "  <th>Date:</th>             <td>Thu, 16 Apr 2020</td>  <th>  Prob (F-statistic):</th> <td>1.05e-80</td> \n",
       "</tr>\n",
       "<tr>\n",
       "  <th>Time:</th>                 <td>15:24:55</td>      <th>  Log-Likelihood:    </th> <td> -5732.3</td> \n",
       "</tr>\n",
       "<tr>\n",
       "  <th>No. Observations:</th>      <td>   920</td>       <th>  AIC:               </th> <td>1.149e+04</td>\n",
       "</tr>\n",
       "<tr>\n",
       "  <th>Df Residuals:</th>          <td>   905</td>       <th>  BIC:               </th> <td>1.157e+04</td>\n",
       "</tr>\n",
       "<tr>\n",
       "  <th>Df Model:</th>              <td>    14</td>       <th>                     </th>     <td> </td>    \n",
       "</tr>\n",
       "<tr>\n",
       "  <th>Covariance Type:</th>      <td>nonrobust</td>     <th>                     </th>     <td> </td>    \n",
       "</tr>\n",
       "</table>\n",
       "<table class=\"simpletable\">\n",
       "<tr>\n",
       "             <td></td>                <th>coef</th>     <th>std err</th>      <th>t</th>      <th>P>|t|</th>  <th>[0.025</th>    <th>0.975]</th>  \n",
       "</tr>\n",
       "<tr>\n",
       "  <th>MINORS_OPS</th>              <td>  334.0713</td> <td>  101.938</td> <td>    3.277</td> <td> 0.001</td> <td>  134.009</td> <td>  534.133</td>\n",
       "</tr>\n",
       "<tr>\n",
       "  <th>MINORS_R_per_AB</th>         <td>  764.6246</td> <td>  314.650</td> <td>    2.430</td> <td> 0.015</td> <td>  147.097</td> <td> 1382.153</td>\n",
       "</tr>\n",
       "<tr>\n",
       "  <th>MINORS_SO_per_AB</th>        <td> -749.7254</td> <td>   82.624</td> <td>   -9.074</td> <td> 0.000</td> <td> -911.883</td> <td> -587.568</td>\n",
       "</tr>\n",
       "<tr>\n",
       "  <th>Draft</th>                   <td>   -0.8849</td> <td>    0.314</td> <td>   -2.815</td> <td> 0.005</td> <td>   -1.502</td> <td>   -0.268</td>\n",
       "</tr>\n",
       "<tr>\n",
       "  <th>School</th>                  <td>   36.0047</td> <td>   10.312</td> <td>    3.491</td> <td> 0.001</td> <td>   15.766</td> <td>   56.244</td>\n",
       "</tr>\n",
       "<tr>\n",
       "  <th>Debut_Age</th>               <td>  -30.2677</td> <td>    2.049</td> <td>  -14.769</td> <td> 0.000</td> <td>  -34.290</td> <td>  -26.246</td>\n",
       "</tr>\n",
       "<tr>\n",
       "  <th>Position_Catcher</th>        <td>  169.6802</td> <td>   29.431</td> <td>    5.765</td> <td> 0.000</td> <td>  111.920</td> <td>  227.441</td>\n",
       "</tr>\n",
       "<tr>\n",
       "  <th>Position_First_Baseman</th>  <td>  186.2457</td> <td>   34.378</td> <td>    5.418</td> <td> 0.000</td> <td>  118.777</td> <td>  253.715</td>\n",
       "</tr>\n",
       "<tr>\n",
       "  <th>Position_Outfielder</th>     <td>  182.4739</td> <td>   29.607</td> <td>    6.163</td> <td> 0.000</td> <td>  124.368</td> <td>  240.579</td>\n",
       "</tr>\n",
       "<tr>\n",
       "  <th>Position_Second_Baseman</th> <td>  187.6827</td> <td>   29.462</td> <td>    6.370</td> <td> 0.000</td> <td>  129.862</td> <td>  245.504</td>\n",
       "</tr>\n",
       "<tr>\n",
       "  <th>Position_Shortstop</th>      <td>  197.4597</td> <td>   26.061</td> <td>    7.577</td> <td> 0.000</td> <td>  146.312</td> <td>  248.608</td>\n",
       "</tr>\n",
       "<tr>\n",
       "  <th>Position_Third_Baseman</th>  <td>  183.8767</td> <td>   30.795</td> <td>    5.971</td> <td> 0.000</td> <td>  123.440</td> <td>  244.314</td>\n",
       "</tr>\n",
       "<tr>\n",
       "  <th>Bats_Both</th>               <td>  373.9292</td> <td>   56.201</td> <td>    6.653</td> <td> 0.000</td> <td>  263.629</td> <td>  484.230</td>\n",
       "</tr>\n",
       "<tr>\n",
       "  <th>Bats_Left</th>               <td>  370.1572</td> <td>   56.335</td> <td>    6.571</td> <td> 0.000</td> <td>  259.594</td> <td>  480.720</td>\n",
       "</tr>\n",
       "<tr>\n",
       "  <th>Bats_Right</th>              <td>  363.3326</td> <td>   56.647</td> <td>    6.414</td> <td> 0.000</td> <td>  252.157</td> <td>  474.508</td>\n",
       "</tr>\n",
       "<tr>\n",
       "  <th>bmi</th>                     <td>    5.3225</td> <td>    1.912</td> <td>    2.784</td> <td> 0.005</td> <td>    1.570</td> <td>    9.075</td>\n",
       "</tr>\n",
       "</table>\n",
       "<table class=\"simpletable\">\n",
       "<tr>\n",
       "  <th>Omnibus:</th>       <td>38.739</td> <th>  Durbin-Watson:     </th> <td>   2.030</td>\n",
       "</tr>\n",
       "<tr>\n",
       "  <th>Prob(Omnibus):</th> <td> 0.000</td> <th>  Jarque-Bera (JB):  </th> <td>  30.914</td>\n",
       "</tr>\n",
       "<tr>\n",
       "  <th>Skew:</th>          <td> 0.364</td> <th>  Prob(JB):          </th> <td>1.94e-07</td>\n",
       "</tr>\n",
       "<tr>\n",
       "  <th>Kurtosis:</th>      <td> 2.473</td> <th>  Cond. No.          </th> <td>3.43e+17</td>\n",
       "</tr>\n",
       "</table><br/><br/>Warnings:<br/>[1] Standard Errors assume that the covariance matrix of the errors is correctly specified.<br/>[2] The smallest eigenvalue is 1.14e-29. This might indicate that there are<br/>strong multicollinearity problems or that the design matrix is singular."
      ],
      "text/plain": [
       "<class 'statsmodels.iolib.summary.Summary'>\n",
       "\"\"\"\n",
       "                            OLS Regression Results                            \n",
       "==============================================================================\n",
       "Dep. Variable:      MLB_AB_per_season   R-squared:                       0.369\n",
       "Model:                            OLS   Adj. R-squared:                  0.359\n",
       "Method:                 Least Squares   F-statistic:                     37.80\n",
       "Date:                Thu, 16 Apr 2020   Prob (F-statistic):           1.05e-80\n",
       "Time:                        15:24:55   Log-Likelihood:                -5732.3\n",
       "No. Observations:                 920   AIC:                         1.149e+04\n",
       "Df Residuals:                     905   BIC:                         1.157e+04\n",
       "Df Model:                          14                                         \n",
       "Covariance Type:            nonrobust                                         \n",
       "===========================================================================================\n",
       "                              coef    std err          t      P>|t|      [0.025      0.975]\n",
       "-------------------------------------------------------------------------------------------\n",
       "MINORS_OPS                334.0713    101.938      3.277      0.001     134.009     534.133\n",
       "MINORS_R_per_AB           764.6246    314.650      2.430      0.015     147.097    1382.153\n",
       "MINORS_SO_per_AB         -749.7254     82.624     -9.074      0.000    -911.883    -587.568\n",
       "Draft                      -0.8849      0.314     -2.815      0.005      -1.502      -0.268\n",
       "School                     36.0047     10.312      3.491      0.001      15.766      56.244\n",
       "Debut_Age                 -30.2677      2.049    -14.769      0.000     -34.290     -26.246\n",
       "Position_Catcher          169.6802     29.431      5.765      0.000     111.920     227.441\n",
       "Position_First_Baseman    186.2457     34.378      5.418      0.000     118.777     253.715\n",
       "Position_Outfielder       182.4739     29.607      6.163      0.000     124.368     240.579\n",
       "Position_Second_Baseman   187.6827     29.462      6.370      0.000     129.862     245.504\n",
       "Position_Shortstop        197.4597     26.061      7.577      0.000     146.312     248.608\n",
       "Position_Third_Baseman    183.8767     30.795      5.971      0.000     123.440     244.314\n",
       "Bats_Both                 373.9292     56.201      6.653      0.000     263.629     484.230\n",
       "Bats_Left                 370.1572     56.335      6.571      0.000     259.594     480.720\n",
       "Bats_Right                363.3326     56.647      6.414      0.000     252.157     474.508\n",
       "bmi                         5.3225      1.912      2.784      0.005       1.570       9.075\n",
       "==============================================================================\n",
       "Omnibus:                       38.739   Durbin-Watson:                   2.030\n",
       "Prob(Omnibus):                  0.000   Jarque-Bera (JB):               30.914\n",
       "Skew:                           0.364   Prob(JB):                     1.94e-07\n",
       "Kurtosis:                       2.473   Cond. No.                     3.43e+17\n",
       "==============================================================================\n",
       "\n",
       "Warnings:\n",
       "[1] Standard Errors assume that the covariance matrix of the errors is correctly specified.\n",
       "[2] The smallest eigenvalue is 1.14e-29. This might indicate that there are\n",
       "strong multicollinearity problems or that the design matrix is singular.\n",
       "\"\"\""
      ]
     },
     "execution_count": 282,
     "metadata": {},
     "output_type": "execute_result"
    }
   ],
   "source": [
    "#ok so lets take look at the initial model\n",
    "fit1.summary()"
   ]
  },
  {
   "cell_type": "code",
   "execution_count": 283,
   "metadata": {},
   "outputs": [
    {
     "data": {
      "text/plain": [
       "0.39984652519962416"
      ]
     },
     "execution_count": 283,
     "metadata": {},
     "output_type": "execute_result"
    }
   ],
   "source": [
    "lm_test_set_pred = fit1.predict(X_test)\n",
    "r2_score(y_test, lm_test_set_pred)"
   ]
  },
  {
   "cell_type": "markdown",
   "metadata": {},
   "source": [
    "**Ok lets see if we can do better with Lasso and Ridge**"
   ]
  },
  {
   "cell_type": "markdown",
   "metadata": {},
   "source": [
    "# Cross Validation and Model Selection"
   ]
  },
  {
   "cell_type": "code",
   "execution_count": 284,
   "metadata": {},
   "outputs": [],
   "source": [
    "#changing X and Y to arrays for k folds\n",
    "X, y = np.array(X), np.array(y)"
   ]
  },
  {
   "cell_type": "markdown",
   "metadata": {},
   "source": [
    "### Ridge vs. Regular Linear Regression"
   ]
  },
  {
   "cell_type": "code",
   "execution_count": 285,
   "metadata": {},
   "outputs": [
    {
     "data": {
      "text/plain": [
       "0.045"
      ]
     },
     "execution_count": 285,
     "metadata": {},
     "output_type": "execute_result"
    }
   ],
   "source": [
    "# Let's find the best alpha for Ridge first\n",
    "alpha_vec = np.linspace(0.001,1.0, num=1000)\n",
    "best_alpha = RidgeCV(alpha_vec).fit(X,y).alpha_\n",
    "best_alpha"
   ]
  },
  {
   "cell_type": "code",
   "execution_count": 286,
   "metadata": {},
   "outputs": [
    {
     "name": "stdout",
     "output_type": "stream",
     "text": [
      "Simple mean cv r^2: 0.364 +- 0.025\n",
      "Ridge mean cv r^2: 0.364 +- 0.025\n"
     ]
    }
   ],
   "source": [
    "from sklearn.model_selection import cross_val_score\n",
    "\n",
    "#initializing K folds\n",
    "kf = KFold(n_splits=5, shuffle=True, random_state = 13)\n",
    "\n",
    "#setting up both models\n",
    "lm = LinearRegression()\n",
    "lm_reg = Ridge(alpha=best_alpha)\n",
    "\n",
    "print(f'Simple mean cv r^2: {np.mean(cross_val_score(lm,X,y,cv=kf)):.3f} +- {np.std(cross_val_score(lm,X,y,cv=kf)):.3f}')\n",
    "\n",
    "#ridge with feature scaling\n",
    "scaler = StandardScaler()\n",
    "X_scaled = scaler.fit_transform(X)\n",
    "X_test_scaled = scaler.transform(X_test) # save for later\n",
    "\n",
    "print(f'Ridge mean cv r^2: {np.mean(cross_val_score(lm, X,y,cv=kf)):.3f} +- {np.std(cross_val_score(lm_reg, X_scaled,y,cv=kf)):.3f}')\n"
   ]
  },
  {
   "cell_type": "code",
   "execution_count": 287,
   "metadata": {},
   "outputs": [
    {
     "data": {
      "text/plain": [
       "[('MINORS_OPS', 25.955659962647584),\n",
       " ('MINORS_R_per_AB', 17.325978466620306),\n",
       " ('MINORS_SO_per_AB', -39.343301299757044),\n",
       " ('Draft', -11.183583422961945),\n",
       " ('School', 16.789839724411273),\n",
       " ('Debut_Age', -71.48616172746597),\n",
       " ('Position_Catcher', -4.855989015832516),\n",
       " ('Position_First_Baseman', 2.467183741392258),\n",
       " ('Position_Outfielder', -0.9215998560912823),\n",
       " ('Position_Second_Baseman', 1.7686286896773704),\n",
       " ('Position_Shortstop', 3.1859781241490257),\n",
       " ('Position_Third_Baseman', -0.7357271305412407),\n",
       " ('Bats_Both', 2.9530230423106163),\n",
       " ('Bats_Left', -1.315538935322424),\n",
       " ('Bats_Right', -0.9099511910411382),\n",
       " ('bmi', 10.246526586005109)]"
      ]
     },
     "execution_count": 287,
     "metadata": {},
     "output_type": "execute_result"
    }
   ],
   "source": [
    "#lets look at the coefficients for the Ridge model\n",
    "fitted_ridge = lm_reg.fit(X_scaled,y)\n",
    "list(zip(df.drop(columns =['MLB_AB_per_season']).columns, fitted_ridge.coef_))"
   ]
  },
  {
   "cell_type": "code",
   "execution_count": 288,
   "metadata": {},
   "outputs": [
    {
     "data": {
      "text/plain": [
       "0.40859042036824467"
      ]
     },
     "execution_count": 288,
     "metadata": {},
     "output_type": "execute_result"
    }
   ],
   "source": [
    "#and lets look at the R^2 value for the Ridge model\n",
    "ridge_test_set_pred = fitted_ridge.predict(X_test_scaled)\n",
    "r2_score(y_test, ridge_test_set_pred)"
   ]
  },
  {
   "cell_type": "markdown",
   "metadata": {},
   "source": [
    "**Interesting. We got a slightly higher R^2 than the OLS model. This is probably just due to random chance though because the mean R^2 value for ridge was the same as OLS.**"
   ]
  },
  {
   "cell_type": "markdown",
   "metadata": {},
   "source": [
    "### Lasso"
   ]
  },
  {
   "cell_type": "code",
   "execution_count": 289,
   "metadata": {},
   "outputs": [
    {
     "data": {
      "text/plain": [
       "0.006"
      ]
     },
     "execution_count": 289,
     "metadata": {},
     "output_type": "execute_result"
    }
   ],
   "source": [
    "#Let's find the best alpha for Lasso first\n",
    "alpha_vec = np.linspace(0.001,1.0, num=1000)\n",
    "best_lasso_alpha = LassoCV(alphas=alpha_vec, cv=kf).fit(X,y).alpha_\n",
    "best_lasso_alpha"
   ]
  },
  {
   "cell_type": "code",
   "execution_count": 290,
   "metadata": {},
   "outputs": [
    {
     "name": "stdout",
     "output_type": "stream",
     "text": [
      "Regular Regression mean cv r^2: 0.364 +- 0.025\n",
      "Lasso mean cv r^2: 0.364 +- 0.025\n"
     ]
    },
    {
     "name": "stderr",
     "output_type": "stream",
     "text": [
      "/Users/samir/opt/anaconda3/envs/metis/lib/python3.7/site-packages/sklearn/linear_model/coordinate_descent.py:475: ConvergenceWarning: Objective did not converge. You might want to increase the number of iterations. Duality gap: 84758.81758115813, tolerance: 2235.5795855611204\n",
      "  positive)\n",
      "/Users/samir/opt/anaconda3/envs/metis/lib/python3.7/site-packages/sklearn/linear_model/coordinate_descent.py:475: ConvergenceWarning: Objective did not converge. You might want to increase the number of iterations. Duality gap: 87567.89830373973, tolerance: 2227.1438316939357\n",
      "  positive)\n",
      "/Users/samir/opt/anaconda3/envs/metis/lib/python3.7/site-packages/sklearn/linear_model/coordinate_descent.py:475: ConvergenceWarning: Objective did not converge. You might want to increase the number of iterations. Duality gap: 85190.3274239488, tolerance: 2229.149410381134\n",
      "  positive)\n",
      "/Users/samir/opt/anaconda3/envs/metis/lib/python3.7/site-packages/sklearn/linear_model/coordinate_descent.py:475: ConvergenceWarning: Objective did not converge. You might want to increase the number of iterations. Duality gap: 84758.81758115813, tolerance: 2235.5795855611204\n",
      "  positive)\n",
      "/Users/samir/opt/anaconda3/envs/metis/lib/python3.7/site-packages/sklearn/linear_model/coordinate_descent.py:475: ConvergenceWarning: Objective did not converge. You might want to increase the number of iterations. Duality gap: 87567.89830373973, tolerance: 2227.1438316939357\n",
      "  positive)\n",
      "/Users/samir/opt/anaconda3/envs/metis/lib/python3.7/site-packages/sklearn/linear_model/coordinate_descent.py:475: ConvergenceWarning: Objective did not converge. You might want to increase the number of iterations. Duality gap: 85190.3274239488, tolerance: 2229.149410381134\n",
      "  positive)\n"
     ]
    }
   ],
   "source": [
    "#setting up both models\n",
    "lm = LinearRegression()\n",
    "lasso_model = Lasso(alpha = best_lasso_alpha)\n",
    "\n",
    "print(f'Regular Regression mean cv r^2: {np.mean(cross_val_score(lm,X,y,cv=kf)):.3f} +- {np.std(cross_val_score(lm,X,y,cv=kf)):.3f}')\n",
    "\n",
    "#lasso with feature scaling\n",
    "scaler = StandardScaler()\n",
    "X_scaled = scaler.fit_transform(X)\n",
    "X_test_scaled = scaler.transform(X_test) # saving for later\n",
    "\n",
    "print(f'Lasso mean cv r^2: {np.mean(cross_val_score(lasso_model, X_scaled,y,cv=kf)):.3f} +- {np.std(cross_val_score(lasso_model, X_scaled,y,cv=kf)):.3f}')"
   ]
  },
  {
   "cell_type": "markdown",
   "metadata": {},
   "source": [
    "**Wow again the lasso model is basically indistinguishable from the regular regression model.**"
   ]
  },
  {
   "cell_type": "code",
   "execution_count": 291,
   "metadata": {},
   "outputs": [
    {
     "name": "stderr",
     "output_type": "stream",
     "text": [
      "/Users/samir/opt/anaconda3/envs/metis/lib/python3.7/site-packages/sklearn/linear_model/coordinate_descent.py:475: ConvergenceWarning: Objective did not converge. You might want to increase the number of iterations. Duality gap: 103594.52274969779, tolerance: 2766.4649508514635\n",
      "  positive)\n"
     ]
    },
    {
     "data": {
      "text/plain": [
       "[('MINORS_OPS', 25.951889623472297),\n",
       " ('MINORS_R_per_AB', 17.325029361394087),\n",
       " ('MINORS_SO_per_AB', -39.33956444337601),\n",
       " ('Draft', -11.17280329731318),\n",
       " ('School', 16.77717590742203),\n",
       " ('Debut_Age', -71.48177650938528),\n",
       " ('Position_Catcher', -4.800702340055638),\n",
       " ('Position_First_Baseman', 2.506231266456685),\n",
       " ('Position_Outfielder', -0.8527063189187049),\n",
       " ('Position_Second_Baseman', 1.8065534006128603),\n",
       " ('Position_Shortstop', 3.229632735203481),\n",
       " ('Position_Third_Baseman', -0.6844002821336633),\n",
       " ('Bats_Both', 3.596741471584726),\n",
       " ('Bats_Left', -0.484165821962132),\n",
       " ('Bats_Right', 0.0),\n",
       " ('bmi', 10.238823786558521)]"
      ]
     },
     "execution_count": 291,
     "metadata": {},
     "output_type": "execute_result"
    }
   ],
   "source": [
    "#lets look at the coefficients for the Ridge model\n",
    "list(zip(df.drop(columns =['MLB_AB_per_season']).columns, lasso_model.fit(X_scaled,y).coef_))"
   ]
  },
  {
   "cell_type": "code",
   "execution_count": 292,
   "metadata": {},
   "outputs": [
    {
     "name": "stderr",
     "output_type": "stream",
     "text": [
      "/Users/samir/opt/anaconda3/envs/metis/lib/python3.7/site-packages/sklearn/linear_model/coordinate_descent.py:475: ConvergenceWarning: Objective did not converge. You might want to increase the number of iterations. Duality gap: 103594.52274969779, tolerance: 2766.4649508514635\n",
      "  positive)\n"
     ]
    }
   ],
   "source": [
    "#and lets look at the R^2 value for the Ridge model\n",
    "fitted_lasso = lasso_model.fit(X_scaled,y)\n",
    "test_set_pred = fitted_lasso.predict(X_test_scaled)"
   ]
  },
  {
   "cell_type": "code",
   "execution_count": 293,
   "metadata": {},
   "outputs": [
    {
     "data": {
      "text/plain": [
       "0.4085878098642626"
      ]
     },
     "execution_count": 293,
     "metadata": {},
     "output_type": "execute_result"
    }
   ],
   "source": [
    "r2_score(y_test, test_set_pred)"
   ]
  },
  {
   "cell_type": "markdown",
   "metadata": {},
   "source": [
    "**We also got a slightly higher R^2 here but it's pretty crazy to see that the Lasso and Ridge models have pretty much the exact same R^2 values. Maybe this is because of all the feature engineering I did before starting this process.**"
   ]
  },
  {
   "cell_type": "markdown",
   "metadata": {},
   "source": [
    "# Taking out outliers"
   ]
  },
  {
   "cell_type": "markdown",
   "metadata": {},
   "source": [
    "**Lasso and Ridge didn't really make much of a difference. Clearly predicting MLB ABs from minor league stats is difficult. Maybe it could help if we take out the outliers from the data. Also please note that this code on taking out outliers was taken from Kevin Chiv's Altmetric analysis: https://github.com/kevinchiv/Predicting-Altmetric-Score**"
   ]
  },
  {
   "cell_type": "code",
   "execution_count": 275,
   "metadata": {},
   "outputs": [
    {
     "name": "stdout",
     "output_type": "stream",
     "text": [
      "R^2 Score for Test: 0.25\n"
     ]
    },
    {
     "data": {
      "text/html": [
       "<table class=\"simpletable\">\n",
       "<caption>OLS Regression Results</caption>\n",
       "<tr>\n",
       "  <th>Dep. Variable:</th>    <td>MLB_AB_per_season</td> <th>  R-squared:         </th> <td>   0.197</td>\n",
       "</tr>\n",
       "<tr>\n",
       "  <th>Model:</th>                   <td>OLS</td>        <th>  Adj. R-squared:    </th> <td>   0.177</td>\n",
       "</tr>\n",
       "<tr>\n",
       "  <th>Method:</th>             <td>Least Squares</td>   <th>  F-statistic:       </th> <td>   10.14</td>\n",
       "</tr>\n",
       "<tr>\n",
       "  <th>Date:</th>             <td>Thu, 16 Apr 2020</td>  <th>  Prob (F-statistic):</th> <td>1.52e-20</td>\n",
       "</tr>\n",
       "<tr>\n",
       "  <th>Time:</th>                 <td>15:20:47</td>      <th>  Log-Likelihood:    </th> <td> -3589.4</td>\n",
       "</tr>\n",
       "<tr>\n",
       "  <th>No. Observations:</th>      <td>   594</td>       <th>  AIC:               </th> <td>   7209.</td>\n",
       "</tr>\n",
       "<tr>\n",
       "  <th>Df Residuals:</th>          <td>   579</td>       <th>  BIC:               </th> <td>   7275.</td>\n",
       "</tr>\n",
       "<tr>\n",
       "  <th>Df Model:</th>              <td>    14</td>       <th>                     </th>     <td> </td>   \n",
       "</tr>\n",
       "<tr>\n",
       "  <th>Covariance Type:</th>      <td>nonrobust</td>     <th>                     </th>     <td> </td>   \n",
       "</tr>\n",
       "</table>\n",
       "<table class=\"simpletable\">\n",
       "<tr>\n",
       "             <td></td>                <th>coef</th>     <th>std err</th>      <th>t</th>      <th>P>|t|</th>  <th>[0.025</th>    <th>0.975]</th>  \n",
       "</tr>\n",
       "<tr>\n",
       "  <th>MINORS_OPS</th>              <td>   46.0720</td> <td>  110.153</td> <td>    0.418</td> <td> 0.676</td> <td> -170.277</td> <td>  262.421</td>\n",
       "</tr>\n",
       "<tr>\n",
       "  <th>MINORS_R_per_AB</th>         <td>  902.0861</td> <td>  337.541</td> <td>    2.673</td> <td> 0.008</td> <td>  239.133</td> <td> 1565.039</td>\n",
       "</tr>\n",
       "<tr>\n",
       "  <th>MINORS_SO_per_AB</th>        <td> -470.9075</td> <td>   87.944</td> <td>   -5.355</td> <td> 0.000</td> <td> -643.636</td> <td> -298.179</td>\n",
       "</tr>\n",
       "<tr>\n",
       "  <th>Draft</th>                   <td>   -0.5859</td> <td>    0.324</td> <td>   -1.810</td> <td> 0.071</td> <td>   -1.222</td> <td>    0.050</td>\n",
       "</tr>\n",
       "<tr>\n",
       "  <th>School</th>                  <td>   16.4986</td> <td>   10.955</td> <td>    1.506</td> <td> 0.133</td> <td>   -5.017</td> <td>   38.014</td>\n",
       "</tr>\n",
       "<tr>\n",
       "  <th>Debut_Age</th>               <td>  -20.1825</td> <td>    2.471</td> <td>   -8.168</td> <td> 0.000</td> <td>  -25.036</td> <td>  -15.329</td>\n",
       "</tr>\n",
       "<tr>\n",
       "  <th>Position_Catcher</th>        <td>  156.9168</td> <td>   32.190</td> <td>    4.875</td> <td> 0.000</td> <td>   93.694</td> <td>  220.139</td>\n",
       "</tr>\n",
       "<tr>\n",
       "  <th>Position_First_Baseman</th>  <td>  165.4214</td> <td>   37.386</td> <td>    4.425</td> <td> 0.000</td> <td>   91.993</td> <td>  238.849</td>\n",
       "</tr>\n",
       "<tr>\n",
       "  <th>Position_Outfielder</th>     <td>  166.5704</td> <td>   32.585</td> <td>    5.112</td> <td> 0.000</td> <td>  102.570</td> <td>  230.570</td>\n",
       "</tr>\n",
       "<tr>\n",
       "  <th>Position_Second_Baseman</th> <td>  163.7099</td> <td>   33.048</td> <td>    4.954</td> <td> 0.000</td> <td>   98.801</td> <td>  228.618</td>\n",
       "</tr>\n",
       "<tr>\n",
       "  <th>Position_Shortstop</th>      <td>  170.3413</td> <td>   28.257</td> <td>    6.028</td> <td> 0.000</td> <td>  114.842</td> <td>  225.840</td>\n",
       "</tr>\n",
       "<tr>\n",
       "  <th>Position_Third_Baseman</th>  <td>  182.2970</td> <td>   33.488</td> <td>    5.444</td> <td> 0.000</td> <td>  116.524</td> <td>  248.070</td>\n",
       "</tr>\n",
       "<tr>\n",
       "  <th>Bats_Both</th>               <td>  329.8190</td> <td>   61.615</td> <td>    5.353</td> <td> 0.000</td> <td>  208.803</td> <td>  450.835</td>\n",
       "</tr>\n",
       "<tr>\n",
       "  <th>Bats_Left</th>               <td>  338.4741</td> <td>   61.947</td> <td>    5.464</td> <td> 0.000</td> <td>  216.806</td> <td>  460.142</td>\n",
       "</tr>\n",
       "<tr>\n",
       "  <th>Bats_Right</th>              <td>  336.9637</td> <td>   63.014</td> <td>    5.347</td> <td> 0.000</td> <td>  213.199</td> <td>  460.728</td>\n",
       "</tr>\n",
       "<tr>\n",
       "  <th>bmi</th>                     <td>    4.1796</td> <td>    2.070</td> <td>    2.019</td> <td> 0.044</td> <td>    0.113</td> <td>    8.246</td>\n",
       "</tr>\n",
       "</table>\n",
       "<table class=\"simpletable\">\n",
       "<tr>\n",
       "  <th>Omnibus:</th>       <td>77.812</td> <th>  Durbin-Watson:     </th> <td>   1.930</td>\n",
       "</tr>\n",
       "<tr>\n",
       "  <th>Prob(Omnibus):</th> <td> 0.000</td> <th>  Jarque-Bera (JB):  </th> <td>  23.697</td>\n",
       "</tr>\n",
       "<tr>\n",
       "  <th>Skew:</th>          <td> 0.194</td> <th>  Prob(JB):          </th> <td>7.15e-06</td>\n",
       "</tr>\n",
       "<tr>\n",
       "  <th>Kurtosis:</th>      <td> 2.101</td> <th>  Cond. No.          </th> <td>3.00e+17</td>\n",
       "</tr>\n",
       "</table><br/><br/>Warnings:<br/>[1] Standard Errors assume that the covariance matrix of the errors is correctly specified.<br/>[2] The smallest eigenvalue is 9.55e-30. This might indicate that there are<br/>strong multicollinearity problems or that the design matrix is singular."
      ],
      "text/plain": [
       "<class 'statsmodels.iolib.summary.Summary'>\n",
       "\"\"\"\n",
       "                            OLS Regression Results                            \n",
       "==============================================================================\n",
       "Dep. Variable:      MLB_AB_per_season   R-squared:                       0.197\n",
       "Model:                            OLS   Adj. R-squared:                  0.177\n",
       "Method:                 Least Squares   F-statistic:                     10.14\n",
       "Date:                Thu, 16 Apr 2020   Prob (F-statistic):           1.52e-20\n",
       "Time:                        15:20:47   Log-Likelihood:                -3589.4\n",
       "No. Observations:                 594   AIC:                             7209.\n",
       "Df Residuals:                     579   BIC:                             7275.\n",
       "Df Model:                          14                                         \n",
       "Covariance Type:            nonrobust                                         \n",
       "===========================================================================================\n",
       "                              coef    std err          t      P>|t|      [0.025      0.975]\n",
       "-------------------------------------------------------------------------------------------\n",
       "MINORS_OPS                 46.0720    110.153      0.418      0.676    -170.277     262.421\n",
       "MINORS_R_per_AB           902.0861    337.541      2.673      0.008     239.133    1565.039\n",
       "MINORS_SO_per_AB         -470.9075     87.944     -5.355      0.000    -643.636    -298.179\n",
       "Draft                      -0.5859      0.324     -1.810      0.071      -1.222       0.050\n",
       "School                     16.4986     10.955      1.506      0.133      -5.017      38.014\n",
       "Debut_Age                 -20.1825      2.471     -8.168      0.000     -25.036     -15.329\n",
       "Position_Catcher          156.9168     32.190      4.875      0.000      93.694     220.139\n",
       "Position_First_Baseman    165.4214     37.386      4.425      0.000      91.993     238.849\n",
       "Position_Outfielder       166.5704     32.585      5.112      0.000     102.570     230.570\n",
       "Position_Second_Baseman   163.7099     33.048      4.954      0.000      98.801     228.618\n",
       "Position_Shortstop        170.3413     28.257      6.028      0.000     114.842     225.840\n",
       "Position_Third_Baseman    182.2970     33.488      5.444      0.000     116.524     248.070\n",
       "Bats_Both                 329.8190     61.615      5.353      0.000     208.803     450.835\n",
       "Bats_Left                 338.4741     61.947      5.464      0.000     216.806     460.142\n",
       "Bats_Right                336.9637     63.014      5.347      0.000     213.199     460.728\n",
       "bmi                         4.1796      2.070      2.019      0.044       0.113       8.246\n",
       "==============================================================================\n",
       "Omnibus:                       77.812   Durbin-Watson:                   1.930\n",
       "Prob(Omnibus):                  0.000   Jarque-Bera (JB):               23.697\n",
       "Skew:                           0.194   Prob(JB):                     7.15e-06\n",
       "Kurtosis:                       2.101   Cond. No.                     3.00e+17\n",
       "==============================================================================\n",
       "\n",
       "Warnings:\n",
       "[1] Standard Errors assume that the covariance matrix of the errors is correctly specified.\n",
       "[2] The smallest eigenvalue is 9.55e-30. This might indicate that there are\n",
       "strong multicollinearity problems or that the design matrix is singular.\n",
       "\"\"\""
      ]
     },
     "execution_count": 275,
     "metadata": {},
     "output_type": "execute_result"
    }
   ],
   "source": [
    "#setting up higher and lower bounds of data\n",
    "q1 = df['MLB_AB_per_season'].quantile(.25)\n",
    "q3 = df['MLB_AB_per_season'].quantile(.75)\n",
    "iqr = q3 - q1\n",
    "\n",
    "lower_bound = q1\n",
    "upper_bound = q3 + 100\n",
    "\n",
    "#applying a mask based on the higher and lower bounds of data\n",
    "quartile_mask = df['MLB_AB_per_season'].between(lower_bound, upper_bound, inclusive=True)\n",
    "allowed_idx = df.loc[quartile_mask, 'MLB_AB_per_season'].index\n",
    "df_copy = df[df.index.isin(allowed_idx)]\n",
    "\n",
    "#training the model on this limited dataset\n",
    "X, y = df_copy.drop(columns = ['MLB_AB_per_season']), df_copy['MLB_AB_per_season']\n",
    "X_train, X_test, y_train, y_test = train_test_split(X, y, test_size= 0.2, random_state = 12)\n",
    "\n",
    "model = sm.OLS(y_train, X_train)\n",
    "fit = model.fit()\n",
    "\n",
    "y_pred = fit.predict(X_test)\n",
    "print('R^2 Score for Test: ' + str(round(r2_score(y_test, y_pred), 2)))\n",
    "\n",
    "fit.summary()"
   ]
  },
  {
   "cell_type": "markdown",
   "metadata": {},
   "source": [
    "**Thoughts:**\n",
    "\n",
    "**Taking out outliers made things worse somehow! It did make Runs per AB have way more of an effect than anything else though. Interesting**"
   ]
  },
  {
   "cell_type": "markdown",
   "metadata": {},
   "source": [
    "# Conclusions and Plots"
   ]
  },
  {
   "cell_type": "markdown",
   "metadata": {},
   "source": [
    "**Since all the models are about the same I could probably pick any of them. However, I pick Ridge because the R^2 is slightly higher from the test. The OLS also has colinearity problems and Ridge is known to fix that so I think the Ridge model is probably the most accurate**"
   ]
  },
  {
   "cell_type": "code",
   "execution_count": 306,
   "metadata": {},
   "outputs": [
    {
     "data": {
      "image/png": "[encoded data removed]",
      "text/plain": [
       "<Figure size 864x576 with 1 Axes>"
      ]
     },
     "metadata": {
      "needs_background": "light"
     },
     "output_type": "display_data"
    }
   ],
   "source": [
    "#plotting the ridge predicted values versus the actual values\n",
    "plt.figure(figsize=(12,8))\n",
    "plt.scatter(ridge_test_set_pred, y_test, alpha=.3)\n",
    "plt.plot(np.linspace(0,500,50), np.linspace(0,500,50))\n",
    "plt.xlabel('Predicted Values', fontsize=20)\n",
    "plt.ylabel('Actual Values', fontsize=20, rotation='horizontal', horizontalalignment='right')\n",
    "plt.xticks(fontsize=15)\n",
    "plt.yticks(fontsize=15)\n",
    "plt.savefig('actualvspredicted.png',format='png',bbox_inches='tight')"
   ]
  },
  {
   "cell_type": "code",
   "execution_count": 299,
   "metadata": {},
   "outputs": [],
   "source": [
    "ridge_residuals = y_test - ridge_test_set_pred"
   ]
  },
  {
   "cell_type": "code",
   "execution_count": 311,
   "metadata": {},
   "outputs": [
    {
     "data": {
      "image/png": "[encoded data removed]",
      "text/plain": [
       "<Figure size 864x576 with 1 Axes>"
      ]
     },
     "metadata": {
      "needs_background": "light"
     },
     "output_type": "display_data"
    }
   ],
   "source": [
    "plt.figure(figsize=(12,8))\n",
    "plt.scatter(ridge_test_set_pred, ridge_residuals)\n",
    "plt.xlabel('Predicted Values', fontsize=20, verticalalignment='top')\n",
    "plt.ylabel('Residuals', fontsize=20, rotation='horizontal', horizontalalignment='right')\n",
    "plt.xticks(fontsize=15)\n",
    "plt.yticks(fontsize=15)\n",
    "plt.savefig('residuals.png',format='png',bbox_inches='tight')"
   ]
  },
  {
   "cell_type": "markdown",
   "metadata": {},
   "source": [
    "Unfortunately, there is still some hetereoskedascity here. The higher the predicted values the closer they tend to be to the actual value. The model is still failing to understand the full cause of why some players have more MLB AB than others."
   ]
  }
 ],
 "metadata": {
  "kernelspec": {
   "display_name": "Python 3",
   "language": "python",
   "name": "python3"
  },
  "language_info": {
   "codemirror_mode": {
    "name": "ipython",
    "version": 3
   },
   "file_extension": ".py",
   "mimetype": "text/x-python",
   "name": "python",
   "nbconvert_exporter": "python",
   "pygments_lexer": "ipython3",
   "version": "3.7.4"
  }
 },
 "nbformat": 4,
 "nbformat_minor": 4
}
