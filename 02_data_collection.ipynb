{
 "cells": [
  {
   "cell_type": "markdown",
   "metadata": {},
   "source": [
    "**So I have my MVP but now I need to add more features to my dataset. The plan is to add the following features:**\n",
    "1. position\n",
    "1. height and weight\n",
    "1. right handed or left\n",
    "1. went to college or not?\n",
    "1. Debut age"
   ]
  },
  {
   "cell_type": "code",
   "execution_count": 1,
   "metadata": {},
   "outputs": [],
   "source": [
    "import pickle\n",
    "import numpy as np\n",
    "import pandas as pd\n",
    "from bs4 import BeautifulSoup\n",
    "import requests\n",
    "import math\n",
    "import seaborn as sns\n",
    "sns.set()\n",
    "\n",
    "from sklearn.model_selection import train_test_split\n",
    "from sklearn.linear_model import LinearRegression, Lasso, LassoCV, Ridge, RidgeCV\n",
    "from sklearn.metrics import r2_score\n",
    "\n",
    "import statsmodels.api as sm\n",
    "import statsmodels.formula.api as smf\n",
    "import patsy\n",
    "\n",
    "from collections import defaultdict \n",
    "import seaborn as sns\n",
    "import matplotlib.pyplot as plt\n",
    "import datetime as dt\n",
    "%matplotlib inline"
   ]
  },
  {
   "cell_type": "code",
   "execution_count": 3,
   "metadata": {},
   "outputs": [],
   "source": [
    "# lets load in the current dataframe with all my data\n",
    "with open('total_players_2000.pkl', 'rb') as handle:\n",
    "    wow = pickle.load(handle)"
   ]
  },
  {
   "cell_type": "code",
   "execution_count": 5,
   "metadata": {},
   "outputs": [
    {
     "data": {
      "text/html": [
       "<div>\n",
       "<style scoped>\n",
       "    .dataframe tbody tr th:only-of-type {\n",
       "        vertical-align: middle;\n",
       "    }\n",
       "\n",
       "    .dataframe tbody tr th {\n",
       "        vertical-align: top;\n",
       "    }\n",
       "\n",
       "    .dataframe thead th {\n",
       "        text-align: right;\n",
       "    }\n",
       "</style>\n",
       "<table border=\"1\" class=\"dataframe\">\n",
       "  <thead>\n",
       "    <tr style=\"text-align: right;\">\n",
       "      <th></th>\n",
       "      <th>player_name</th>\n",
       "      <th>url_path</th>\n",
       "      <th>MINORS_G</th>\n",
       "      <th>MINORS_AB</th>\n",
       "      <th>MINORS_R</th>\n",
       "      <th>MINORS_H</th>\n",
       "      <th>MINORS_HR</th>\n",
       "      <th>MINORS_RBI</th>\n",
       "      <th>MINORS_BB</th>\n",
       "      <th>MINORS_SO</th>\n",
       "      <th>MINORS_BA</th>\n",
       "      <th>MINORS_OPS</th>\n",
       "      <th>MLB_G</th>\n",
       "      <th>MLB_AB</th>\n",
       "      <th>MINORS_R_per_AB</th>\n",
       "      <th>MINORS_SO_per_AB</th>\n",
       "      <th>MINORS_BB_per_AB</th>\n",
       "    </tr>\n",
       "  </thead>\n",
       "  <tbody>\n",
       "    <tr>\n",
       "      <th>0</th>\n",
       "      <td>Evert-Jean 't Hoen</td>\n",
       "      <td>/register/player.fcgi?id=thoen-001eve</td>\n",
       "      <td>485</td>\n",
       "      <td>1576</td>\n",
       "      <td>180</td>\n",
       "      <td>326</td>\n",
       "      <td>38</td>\n",
       "      <td>176</td>\n",
       "      <td>145</td>\n",
       "      <td>458</td>\n",
       "      <td>0.207</td>\n",
       "      <td>0.622</td>\n",
       "      <td>0</td>\n",
       "      <td>0</td>\n",
       "      <td>0.114213</td>\n",
       "      <td>0.290609</td>\n",
       "      <td>0.092005</td>\n",
       "    </tr>\n",
       "    <tr>\n",
       "      <th>1</th>\n",
       "      <td>Larry Barnes</td>\n",
       "      <td>/register/player.fcgi?id=barnes002lar</td>\n",
       "      <td>1087</td>\n",
       "      <td>4018</td>\n",
       "      <td>627</td>\n",
       "      <td>1141</td>\n",
       "      <td>152</td>\n",
       "      <td>720</td>\n",
       "      <td>377</td>\n",
       "      <td>825</td>\n",
       "      <td>0.284</td>\n",
       "      <td>0.833</td>\n",
       "      <td>46</td>\n",
       "      <td>78</td>\n",
       "      <td>0.156048</td>\n",
       "      <td>0.205326</td>\n",
       "      <td>0.093828</td>\n",
       "    </tr>\n",
       "    <tr>\n",
       "      <th>2</th>\n",
       "      <td>Justin Baughman</td>\n",
       "      <td>/register/player.fcgi?id=baughm001jus</td>\n",
       "      <td>685</td>\n",
       "      <td>2516</td>\n",
       "      <td>378</td>\n",
       "      <td>652</td>\n",
       "      <td>19</td>\n",
       "      <td>241</td>\n",
       "      <td>205</td>\n",
       "      <td>413</td>\n",
       "      <td>0.259</td>\n",
       "      <td>0.660</td>\n",
       "      <td>79</td>\n",
       "      <td>218</td>\n",
       "      <td>0.150238</td>\n",
       "      <td>0.164149</td>\n",
       "      <td>0.081479</td>\n",
       "    </tr>\n",
       "  </tbody>\n",
       "</table>\n",
       "</div>"
      ],
      "text/plain": [
       "          player_name                               url_path  MINORS_G  \\\n",
       "0  Evert-Jean 't Hoen  /register/player.fcgi?id=thoen-001eve       485   \n",
       "1        Larry Barnes  /register/player.fcgi?id=barnes002lar      1087   \n",
       "2     Justin Baughman  /register/player.fcgi?id=baughm001jus       685   \n",
       "\n",
       "   MINORS_AB  MINORS_R  MINORS_H  MINORS_HR  MINORS_RBI  MINORS_BB  MINORS_SO  \\\n",
       "0       1576       180       326         38         176        145        458   \n",
       "1       4018       627      1141        152         720        377        825   \n",
       "2       2516       378       652         19         241        205        413   \n",
       "\n",
       "   MINORS_BA  MINORS_OPS  MLB_G  MLB_AB  MINORS_R_per_AB  MINORS_SO_per_AB  \\\n",
       "0      0.207       0.622      0       0         0.114213          0.290609   \n",
       "1      0.284       0.833     46      78         0.156048          0.205326   \n",
       "2      0.259       0.660     79     218         0.150238          0.164149   \n",
       "\n",
       "   MINORS_BB_per_AB  \n",
       "0          0.092005  \n",
       "1          0.093828  \n",
       "2          0.081479  "
      ]
     },
     "execution_count": 5,
     "metadata": {},
     "output_type": "execute_result"
    }
   ],
   "source": [
    "wow.head(3)"
   ]
  },
  {
   "cell_type": "markdown",
   "metadata": {},
   "source": [
    "# Web scraping "
   ]
  },
  {
   "cell_type": "code",
   "execution_count": 6,
   "metadata": {},
   "outputs": [],
   "source": [
    "#adding more columns for all this data\n",
    "wow['Position'] = ''\n",
    "wow['Bats'] = ''\n",
    "wow['Height'] = ''\n",
    "wow['Weight'] = ''\n",
    "wow['Born'] = ''\n",
    "wow['Debut'] = ''\n",
    "wow['Draft'] = ''\n",
    "wow['School'] = ''"
   ]
  },
  {
   "cell_type": "code",
   "execution_count": 8,
   "metadata": {},
   "outputs": [],
   "source": [
    "#lets write a function that gets all the additional features that I want for each player\n",
    "def grab_more_features(df):\n",
    "    \"\"\"\n",
    "    Arguments: a dataframe with baseball players and url paths already in there\n",
    "    Returns: the same dataframe but with more information about them like their Position, if they went to college, \n",
    "    the round they were drafted in, batting right-handed or left-handed, when they got to the pros, when they were born,\n",
    "    their height, and their weight. \n",
    "    \"\"\"\n",
    "    \n",
    "    for index,row in enumerate(df.values.tolist()):\n",
    "        \n",
    "        #scraping the specific player's stat page\n",
    "        url = 'https://www.baseball-reference.com' + str(row[1])\n",
    "        response = requests.get(url)\n",
    "        page = response.text\n",
    "        soup = BeautifulSoup(page, \"lxml\")\n",
    "        \n",
    "        #initializing a dictionary to put the data in\n",
    "        info_dict = defaultdict(str)\n",
    "        \n",
    "        #looping through the scraped jumble for exactly the data we want\n",
    "        for tag in soup.find_all('div', itemtype=\"https://schema.org/Person\"):\n",
    "            for i,tag2 in enumerate(tag.find_all('p')):\n",
    "                if tag2.strong is not None:\n",
    "                    if tag2.strong.text == \"Positions:\":\n",
    "                        info_dict[\"Position\"] = tag2.text.replace('\\n','').split(':',1)[1].strip().split(' ',1)[0].replace(',','')\n",
    "                    elif tag2.strong.text == \"Position:\":\n",
    "                        info_dict[\"Position\"] = tag2.text.split(':',1)[1].strip()\n",
    "                    elif tag2.strong.text == \"Schools:\":\n",
    "                        info_dict[\"Schools\"] = tag2.text.replace('\\n','').split(':',1)[1]\n",
    "                    elif tag2.strong.text == \"School:\":\n",
    "                        info_dict[\"Schools\"] = tag2.text.split(':',1)[1].strip()\n",
    "                    elif tag2.strong.text == \"Bats: \":\n",
    "                        info_dict[\"Bats\"] = tag2.text.replace('\\n','').split(':',1)[1][0:6].strip()\n",
    "                    elif tag2.strong.text == \"Debut:\":\n",
    "                        info_dict[\"Debut\"] = tag2.text.replace('\\n','').split(':',1)[1].split('(',1)[0].strip()\n",
    "                    elif tag2.strong.text == \"Born:\":\n",
    "                        info_dict[\"Born\"] = tag2.text.replace('\\n','').split(':',1)[1][0:21].strip()\n",
    "                    elif tag2.strong.text == \"Draft\":\n",
    "                        index_num = tag2.text.find('round')\n",
    "                        info_dict[\"Draft\"] = tag2.text[index_num-5:index_num-3].strip()\n",
    "                else:\n",
    "                    for j,tag3 in enumerate(tag2.find_all('span')):\n",
    "                        if j ==0:\n",
    "                            info_dict['Height'] = tag3.text\n",
    "                        if j == 1:\n",
    "                            info_dict['Weight'] = tag3.text\n",
    "        \n",
    "        #assigning the data we grabbed to the specific cells in the dataframe\n",
    "        df.at[index,'Position'] = info_dict['Position']\n",
    "        df.at[index,'Bats'] = info_dict['Bats']\n",
    "        df.at[index,'Height'] = info_dict['Height']\n",
    "        df.at[index,'Weight'] = info_dict['Weight']\n",
    "        df.at[index,'Born'] = info_dict['Born']\n",
    "        df.at[index,'Debut'] = info_dict['Debut']\n",
    "        if info_dict['Draft']:\n",
    "            df.at[index,'Draft'] = int(info_dict['Draft'])\n",
    "        if info_dict['Schools']:\n",
    "            df.at[index,'School'] = 1\n",
    "        else:\n",
    "            df.at[index,'School'] = 0\n",
    "            \n",
    "    return df"
   ]
  },
  {
   "cell_type": "code",
   "execution_count": 9,
   "metadata": {},
   "outputs": [],
   "source": [
    "#running the above function\n",
    "full_df = grab_more_features(wow) "
   ]
  },
  {
   "cell_type": "code",
   "execution_count": 10,
   "metadata": {},
   "outputs": [
    {
     "data": {
      "text/html": [
       "<div>\n",
       "<style scoped>\n",
       "    .dataframe tbody tr th:only-of-type {\n",
       "        vertical-align: middle;\n",
       "    }\n",
       "\n",
       "    .dataframe tbody tr th {\n",
       "        vertical-align: top;\n",
       "    }\n",
       "\n",
       "    .dataframe thead th {\n",
       "        text-align: right;\n",
       "    }\n",
       "</style>\n",
       "<table border=\"1\" class=\"dataframe\">\n",
       "  <thead>\n",
       "    <tr style=\"text-align: right;\">\n",
       "      <th></th>\n",
       "      <th>player_name</th>\n",
       "      <th>url_path</th>\n",
       "      <th>MINORS_G</th>\n",
       "      <th>MINORS_AB</th>\n",
       "      <th>MINORS_R</th>\n",
       "      <th>MINORS_H</th>\n",
       "      <th>MINORS_HR</th>\n",
       "      <th>MINORS_RBI</th>\n",
       "      <th>MINORS_BB</th>\n",
       "      <th>MINORS_SO</th>\n",
       "      <th>...</th>\n",
       "      <th>MINORS_SO_per_AB</th>\n",
       "      <th>MINORS_BB_per_AB</th>\n",
       "      <th>Position</th>\n",
       "      <th>Bats</th>\n",
       "      <th>Height</th>\n",
       "      <th>Weight</th>\n",
       "      <th>Born</th>\n",
       "      <th>Debut</th>\n",
       "      <th>Draft</th>\n",
       "      <th>School</th>\n",
       "    </tr>\n",
       "  </thead>\n",
       "  <tbody>\n",
       "    <tr>\n",
       "      <th>0</th>\n",
       "      <td>Evert-Jean 't Hoen</td>\n",
       "      <td>/register/player.fcgi?id=thoen-001eve</td>\n",
       "      <td>485</td>\n",
       "      <td>1576</td>\n",
       "      <td>180</td>\n",
       "      <td>326</td>\n",
       "      <td>38</td>\n",
       "      <td>176</td>\n",
       "      <td>145</td>\n",
       "      <td>458</td>\n",
       "      <td>...</td>\n",
       "      <td>0.290609</td>\n",
       "      <td>0.092005</td>\n",
       "      <td>Shortstop</td>\n",
       "      <td>Right</td>\n",
       "      <td>6-2</td>\n",
       "      <td>190lb</td>\n",
       "      <td>November 8, 1975</td>\n",
       "      <td></td>\n",
       "      <td>32</td>\n",
       "      <td>1</td>\n",
       "    </tr>\n",
       "    <tr>\n",
       "      <th>1</th>\n",
       "      <td>Larry Barnes</td>\n",
       "      <td>/register/player.fcgi?id=barnes002lar</td>\n",
       "      <td>1087</td>\n",
       "      <td>4018</td>\n",
       "      <td>627</td>\n",
       "      <td>1141</td>\n",
       "      <td>152</td>\n",
       "      <td>720</td>\n",
       "      <td>377</td>\n",
       "      <td>825</td>\n",
       "      <td>...</td>\n",
       "      <td>0.205326</td>\n",
       "      <td>0.093828</td>\n",
       "      <td>First</td>\n",
       "      <td>Left</td>\n",
       "      <td>6-1</td>\n",
       "      <td>195lb</td>\n",
       "      <td>July 23, 1974</td>\n",
       "      <td>April 11, 2001</td>\n",
       "      <td>69</td>\n",
       "      <td>1</td>\n",
       "    </tr>\n",
       "    <tr>\n",
       "      <th>2</th>\n",
       "      <td>Justin Baughman</td>\n",
       "      <td>/register/player.fcgi?id=baughm001jus</td>\n",
       "      <td>685</td>\n",
       "      <td>2516</td>\n",
       "      <td>378</td>\n",
       "      <td>652</td>\n",
       "      <td>19</td>\n",
       "      <td>241</td>\n",
       "      <td>205</td>\n",
       "      <td>413</td>\n",
       "      <td>...</td>\n",
       "      <td>0.164149</td>\n",
       "      <td>0.081479</td>\n",
       "      <td>Shortstop</td>\n",
       "      <td>Right</td>\n",
       "      <td>5-11</td>\n",
       "      <td>175lb</td>\n",
       "      <td>August 1, 1974</td>\n",
       "      <td>May 17, 1998</td>\n",
       "      <td>42</td>\n",
       "      <td>1</td>\n",
       "    </tr>\n",
       "  </tbody>\n",
       "</table>\n",
       "<p>3 rows × 25 columns</p>\n",
       "</div>"
      ],
      "text/plain": [
       "          player_name                               url_path  MINORS_G  \\\n",
       "0  Evert-Jean 't Hoen  /register/player.fcgi?id=thoen-001eve       485   \n",
       "1        Larry Barnes  /register/player.fcgi?id=barnes002lar      1087   \n",
       "2     Justin Baughman  /register/player.fcgi?id=baughm001jus       685   \n",
       "\n",
       "   MINORS_AB  MINORS_R  MINORS_H  MINORS_HR  MINORS_RBI  MINORS_BB  MINORS_SO  \\\n",
       "0       1576       180       326         38         176        145        458   \n",
       "1       4018       627      1141        152         720        377        825   \n",
       "2       2516       378       652         19         241        205        413   \n",
       "\n",
       "   ...  MINORS_SO_per_AB  MINORS_BB_per_AB   Position   Bats  Height  Weight  \\\n",
       "0  ...          0.290609          0.092005  Shortstop  Right     6-2   190lb   \n",
       "1  ...          0.205326          0.093828      First   Left     6-1   195lb   \n",
       "2  ...          0.164149          0.081479  Shortstop  Right    5-11   175lb   \n",
       "\n",
       "               Born           Debut Draft School  \n",
       "0  November 8, 1975                    32      1  \n",
       "1     July 23, 1974  April 11, 2001    69      1  \n",
       "2    August 1, 1974    May 17, 1998    42      1  \n",
       "\n",
       "[3 rows x 25 columns]"
      ]
     },
     "execution_count": 10,
     "metadata": {},
     "output_type": "execute_result"
    }
   ],
   "source": [
    "full_df.head(3)"
   ]
  },
  {
   "cell_type": "code",
   "execution_count": 263,
   "metadata": {},
   "outputs": [],
   "source": [
    "#saving my progress\n",
    "with open('full_feature_df.pkl', 'wb') as handle:\n",
    "    pickle.dump(full_df, handle, protocol=pickle.HIGHEST_PROTOCOL)"
   ]
  },
  {
   "cell_type": "code",
   "execution_count": 469,
   "metadata": {},
   "outputs": [],
   "source": [
    "#aaand we're back working\n",
    "with open('full_feature_df.pkl', 'rb') as handle:\n",
    "    full_df = pickle.load(handle)"
   ]
  },
  {
   "cell_type": "markdown",
   "metadata": {},
   "source": [
    "# Data Cleaning (and minor feature engineering)"
   ]
  },
  {
   "cell_type": "code",
   "execution_count": 11,
   "metadata": {},
   "outputs": [
    {
     "data": {
      "text/plain": [
       "0                         \n",
       "1           April 11, 2001\n",
       "2             May 17, 1998\n",
       "3              May 9, 2001\n",
       "4       September 10, 1998\n",
       "               ...        \n",
       "2382        August 9, 1999\n",
       "2383     September 3, 1996\n",
       "2384           May 8, 1994\n",
       "2385     September 8, 1996\n",
       "2386     September 1, 1989\n",
       "Name: Debut, Length: 2387, dtype: object"
      ]
     },
     "execution_count": 11,
     "metadata": {},
     "output_type": "execute_result"
    }
   ],
   "source": [
    "full_df.Debut"
   ]
  },
  {
   "cell_type": "code",
   "execution_count": 22,
   "metadata": {},
   "outputs": [],
   "source": [
    "#changing all the columns with dates to datetime format\n",
    "full_df.Born = pd.to_datetime(full_df.Born,format=\"%B %d, %Y\",errors='coerce',exact=False)\n",
    "full_df.Debut = pd.to_datetime(full_df.Debut,format=\"%B %d, %Y\",errors='coerce',exact=False)"
   ]
  },
  {
   "cell_type": "code",
   "execution_count": 14,
   "metadata": {},
   "outputs": [
    {
     "data": {
      "text/plain": [
       "0       32\n",
       "1       69\n",
       "2       42\n",
       "3        9\n",
       "4       10\n",
       "        ..\n",
       "2382     7\n",
       "2383     0\n",
       "2384    33\n",
       "2385    40\n",
       "2386    16\n",
       "Name: Draft, Length: 2387, dtype: int64"
      ]
     },
     "execution_count": 14,
     "metadata": {},
     "output_type": "execute_result"
    }
   ],
   "source": [
    "#filling in the blank values\n",
    "full_df.Draft = full_df.Draft.replace('', 0,)\n",
    "full_df.Draft.astype(int)"
   ]
  },
  {
   "cell_type": "code",
   "execution_count": 16,
   "metadata": {},
   "outputs": [],
   "source": [
    "#changing the School column to an int rather than a string\n",
    "full_df.School = full_df.School.astype('int64')"
   ]
  },
  {
   "cell_type": "code",
   "execution_count": 23,
   "metadata": {},
   "outputs": [],
   "source": [
    "#making a new feature called Debut Age to figure out the age that each player made it to the MLB\n",
    "full_df['Debut_Age'] = (full_df.Debut - full_df.Born)/dt.timedelta(days=365)"
   ]
  },
  {
   "cell_type": "code",
   "execution_count": 24,
   "metadata": {},
   "outputs": [],
   "source": [
    "#filling in the null values\n",
    "full_df.Born = full_df.Born.fillna(0)\n",
    "full_df.Debut = full_df.Debut.fillna(0)"
   ]
  },
  {
   "cell_type": "code",
   "execution_count": 502,
   "metadata": {},
   "outputs": [],
   "source": [
    "with open('full_feature_df.pkl', 'wb') as handle:\n",
    "    pickle.dump(full_df, handle, protocol=pickle.HIGHEST_PROTOCOL)"
   ]
  },
  {
   "cell_type": "code",
   "execution_count": 29,
   "metadata": {},
   "outputs": [],
   "source": [
    "#changing height from a string to inches in integers\n",
    "full_df.Height = full_df.Height.apply(lambda x: (int(x.split('-')[0])*12) + int(x.split('-')[1]))"
   ]
  },
  {
   "cell_type": "code",
   "execution_count": 30,
   "metadata": {},
   "outputs": [],
   "source": [
    "#cleaning up the categorical variables so we can make them dummies\n",
    "full_df.loc[full_df.Position=='First', 'Position'] = 'First Baseman'\n",
    "full_df.loc[full_df.Position=='Second', 'Position'] = 'Second Baseman'\n",
    "full_df.loc[full_df.Position=='Third', 'Position'] = 'Third Baseman'\n",
    "full_df.loc[full_df.Position=='Leftfielder', 'Position'] = 'Outfielder'\n",
    "full_df.loc[full_df.Position=='Rightfielder', 'Position'] = 'Outfielder'\n",
    "full_df.loc[full_df.Position=='Centerfielder', 'Position'] = 'Outfielder'"
   ]
  },
  {
   "cell_type": "code",
   "execution_count": 31,
   "metadata": {},
   "outputs": [],
   "source": [
    "#changing the players who either had pinch hitter or designated hitter as their position \n",
    "#to their most commonly played field position. We want to eliminate categories with low amounts of players\n",
    "\n",
    "full_df.at[1086, 'Position'] = 'Outfielder'\n",
    "full_df.at[2064,'Position'] = 'Third Baseman'\n",
    "full_df.at[2300,'Position'] = 'Outfielder'\n",
    "full_df.at[77,'Position'] = 'First Baseman'\n",
    "full_df.at[588,'Position'] = 'First Baseman'\n",
    "full_df.at[1465,'Position'] = 'First Baseman'\n",
    "full_df.at[1968,'Position'] = 'First Baseman'\n",
    "full_df.at[2018,'Position'] = 'First Baseman'\n",
    "full_df.at[2088,'Position'] = 'Outfielder'\n",
    "full_df.at[2124,'Position'] = 'First Baseman'\n",
    "full_df.at[2184,'Position'] = 'First Baseman'\n",
    "full_df.at[2244,'Position'] = 'First Baseman'\n",
    "full_df.at[2335,'Position'] = 'Third Baseman'\n",
    "full_df.at[2373,'Position'] = 'First Baseman'"
   ]
  },
  {
   "cell_type": "code",
   "execution_count": 632,
   "metadata": {},
   "outputs": [],
   "source": [
    "#saving progress\n",
    "with open('full_feature_df.pkl', 'wb') as handle:\n",
    "    pickle.dump(full_df, handle, protocol=pickle.HIGHEST_PROTOCOL)"
   ]
  },
  {
   "cell_type": "code",
   "execution_count": 32,
   "metadata": {},
   "outputs": [],
   "source": [
    "#making a new df that is ready to use pd.get_dummies on\n",
    "dummy_df = full_df.drop(['url_path'],axis=1)\n",
    "dummy_df.index = dummy_df.player_name\n",
    "dummy_df = dummy_df.drop(['player_name'],axis=1)\n",
    "dummy_df = pd.get_dummies(dummy_df)"
   ]
  },
  {
   "cell_type": "code",
   "execution_count": 33,
   "metadata": {},
   "outputs": [],
   "source": [
    "#changing the names of some columns so they don't have spaces\n",
    "dummy_df.rename(columns={\"Position_Third Baseman\":\"Position_Third_Baseman\", \"Position_First Baseman\": \"Position_First_Baseman\", \"Position_Second Baseman\": \"Position_Second_Baseman\"}, inplace=True)"
   ]
  },
  {
   "cell_type": "code",
   "execution_count": 34,
   "metadata": {},
   "outputs": [],
   "source": [
    "#turning weight and height into one feature that uses both of them:bmi\n",
    "dummy_df['bmi'] = (dummy_df.Weight/2.205)/((dummy_df.Height/39.37)**2)"
   ]
  },
  {
   "cell_type": "markdown",
   "metadata": {},
   "source": [
    "**Let's save our progress for now**"
   ]
  },
  {
   "cell_type": "code",
   "execution_count": null,
   "metadata": {},
   "outputs": [],
   "source": [
    "with open('dummy_df.pkl', 'wb') as handle:\n",
    "    pickle.dump(dummy_df, handle, protocol=pickle.HIGHEST_PROTOCOL)\n",
    "    "
   ]
  },
  {
   "cell_type": "markdown",
   "metadata": {},
   "source": [
    "# Final Data Collection  "
   ]
  },
  {
   "cell_type": "markdown",
   "metadata": {},
   "source": [
    "**After running some basic models on my data I have one more thing I want to try. Below is some code to figure out how many seasons someone spent in the MLB. The idea is to normalize the MLB_AB column by dividing the ABs by number of seasons**\n",
    "\n",
    "**At this point, I've also decided to focus my model on predicting MLB ABs only for players who actually made it to the MLB. The model is having trouble with more than half of the observations having 0 as the target variable because the player has no MLB ABs**"
   ]
  },
  {
   "cell_type": "code",
   "execution_count": 35,
   "metadata": {},
   "outputs": [
    {
     "name": "stderr",
     "output_type": "stream",
     "text": [
      "/Users/samir/opt/anaconda3/envs/metis/lib/python3.7/site-packages/pandas/core/indexing.py:845: SettingWithCopyWarning: \n",
      "A value is trying to be set on a copy of a slice from a DataFrame.\n",
      "Try using .loc[row_indexer,col_indexer] = value instead\n",
      "\n",
      "See the caveats in the documentation: https://pandas.pydata.org/pandas-docs/stable/user_guide/indexing.html#returning-a-view-versus-a-copy\n",
      "  self.obj[key] = _infer_fill_value(value)\n",
      "/Users/samir/opt/anaconda3/envs/metis/lib/python3.7/site-packages/pandas/core/indexing.py:966: SettingWithCopyWarning: \n",
      "A value is trying to be set on a copy of a slice from a DataFrame.\n",
      "Try using .loc[row_indexer,col_indexer] = value instead\n",
      "\n",
      "See the caveats in the documentation: https://pandas.pydata.org/pandas-docs/stable/user_guide/indexing.html#returning-a-view-versus-a-copy\n",
      "  self.obj[item] = s\n"
     ]
    }
   ],
   "source": [
    "#making a new df for only players with MLB ABs\n",
    "mlb_only = full_df[full_df['MLB_AB'] > 0]\n",
    "mlb_only.reset_index(drop=True, inplace=True)\n",
    "mlb_only.loc[:,'MLB_seasons'] = 0\n",
    "mlb_only.loc[:,'MINORS_seasons'] = 0"
   ]
  },
  {
   "cell_type": "code",
   "execution_count": 37,
   "metadata": {},
   "outputs": [
    {
     "data": {
      "text/html": [
       "<div>\n",
       "<style scoped>\n",
       "    .dataframe tbody tr th:only-of-type {\n",
       "        vertical-align: middle;\n",
       "    }\n",
       "\n",
       "    .dataframe tbody tr th {\n",
       "        vertical-align: top;\n",
       "    }\n",
       "\n",
       "    .dataframe thead th {\n",
       "        text-align: right;\n",
       "    }\n",
       "</style>\n",
       "<table border=\"1\" class=\"dataframe\">\n",
       "  <thead>\n",
       "    <tr style=\"text-align: right;\">\n",
       "      <th></th>\n",
       "      <th>player_name</th>\n",
       "      <th>url_path</th>\n",
       "      <th>MINORS_G</th>\n",
       "      <th>MINORS_AB</th>\n",
       "      <th>MINORS_R</th>\n",
       "      <th>MINORS_H</th>\n",
       "      <th>MINORS_HR</th>\n",
       "      <th>MINORS_RBI</th>\n",
       "      <th>MINORS_BB</th>\n",
       "      <th>MINORS_SO</th>\n",
       "      <th>...</th>\n",
       "      <th>Bats</th>\n",
       "      <th>Height</th>\n",
       "      <th>Weight</th>\n",
       "      <th>Born</th>\n",
       "      <th>Debut</th>\n",
       "      <th>Draft</th>\n",
       "      <th>School</th>\n",
       "      <th>Debut_Age</th>\n",
       "      <th>MLB_seasons</th>\n",
       "      <th>MINORS_seasons</th>\n",
       "    </tr>\n",
       "  </thead>\n",
       "  <tbody>\n",
       "    <tr>\n",
       "      <th>0</th>\n",
       "      <td>Larry Barnes</td>\n",
       "      <td>/register/player.fcgi?id=barnes002lar</td>\n",
       "      <td>1087</td>\n",
       "      <td>4018</td>\n",
       "      <td>627</td>\n",
       "      <td>1141</td>\n",
       "      <td>152</td>\n",
       "      <td>720</td>\n",
       "      <td>377</td>\n",
       "      <td>825</td>\n",
       "      <td>...</td>\n",
       "      <td>Left</td>\n",
       "      <td>73</td>\n",
       "      <td>195</td>\n",
       "      <td>0</td>\n",
       "      <td>0</td>\n",
       "      <td>69</td>\n",
       "      <td>1</td>\n",
       "      <td>NaN</td>\n",
       "      <td>0</td>\n",
       "      <td>0</td>\n",
       "    </tr>\n",
       "    <tr>\n",
       "      <th>1</th>\n",
       "      <td>Justin Baughman</td>\n",
       "      <td>/register/player.fcgi?id=baughm001jus</td>\n",
       "      <td>685</td>\n",
       "      <td>2516</td>\n",
       "      <td>378</td>\n",
       "      <td>652</td>\n",
       "      <td>19</td>\n",
       "      <td>241</td>\n",
       "      <td>205</td>\n",
       "      <td>413</td>\n",
       "      <td>...</td>\n",
       "      <td>Right</td>\n",
       "      <td>71</td>\n",
       "      <td>175</td>\n",
       "      <td>0</td>\n",
       "      <td>0</td>\n",
       "      <td>42</td>\n",
       "      <td>1</td>\n",
       "      <td>NaN</td>\n",
       "      <td>0</td>\n",
       "      <td>0</td>\n",
       "    </tr>\n",
       "    <tr>\n",
       "      <th>2</th>\n",
       "      <td>Jamie Burke</td>\n",
       "      <td>/register/player.fcgi?id=burke-002jam</td>\n",
       "      <td>1255</td>\n",
       "      <td>4352</td>\n",
       "      <td>574</td>\n",
       "      <td>1211</td>\n",
       "      <td>54</td>\n",
       "      <td>541</td>\n",
       "      <td>386</td>\n",
       "      <td>572</td>\n",
       "      <td>...</td>\n",
       "      <td>Right</td>\n",
       "      <td>72</td>\n",
       "      <td>195</td>\n",
       "      <td>0</td>\n",
       "      <td>0</td>\n",
       "      <td>9</td>\n",
       "      <td>1</td>\n",
       "      <td>NaN</td>\n",
       "      <td>0</td>\n",
       "      <td>0</td>\n",
       "    </tr>\n",
       "  </tbody>\n",
       "</table>\n",
       "<p>3 rows × 28 columns</p>\n",
       "</div>"
      ],
      "text/plain": [
       "       player_name                               url_path  MINORS_G  \\\n",
       "0     Larry Barnes  /register/player.fcgi?id=barnes002lar      1087   \n",
       "1  Justin Baughman  /register/player.fcgi?id=baughm001jus       685   \n",
       "2      Jamie Burke  /register/player.fcgi?id=burke-002jam      1255   \n",
       "\n",
       "   MINORS_AB  MINORS_R  MINORS_H  MINORS_HR  MINORS_RBI  MINORS_BB  MINORS_SO  \\\n",
       "0       4018       627      1141        152         720        377        825   \n",
       "1       2516       378       652         19         241        205        413   \n",
       "2       4352       574      1211         54         541        386        572   \n",
       "\n",
       "   ...   Bats  Height  Weight  Born  Debut  Draft  School Debut_Age  \\\n",
       "0  ...   Left      73     195     0      0     69       1       NaN   \n",
       "1  ...  Right      71     175     0      0     42       1       NaN   \n",
       "2  ...  Right      72     195     0      0      9       1       NaN   \n",
       "\n",
       "  MLB_seasons  MINORS_seasons  \n",
       "0           0               0  \n",
       "1           0               0  \n",
       "2           0               0  \n",
       "\n",
       "[3 rows x 28 columns]"
      ]
     },
     "execution_count": 37,
     "metadata": {},
     "output_type": "execute_result"
    }
   ],
   "source": [
    "mlb_only.head(3)"
   ]
  },
  {
   "cell_type": "code",
   "execution_count": 39,
   "metadata": {},
   "outputs": [],
   "source": [
    "def grab_seasons(df):\n",
    "    \"\"\"\n",
    "    Arguments: a dataframe that already has player names and the url path to their stats page on baseball-reference.com\n",
    "    Returns: returns the dataframe with two more data points: # of seasons in MLB and # of seasons in Minor leagues\n",
    "    \"\"\"\n",
    "    \n",
    "    #looping through player stat pages and grabbing the HTML\n",
    "    for index,row in enumerate(df.values.tolist()):\n",
    "        url = 'https://www.baseball-reference.com' + str(row[1])\n",
    "        response = requests.get(url)\n",
    "        page = response.text\n",
    "        soup = BeautifulSoup(page, \"lxml\")\n",
    "\n",
    "        #grabbing number of MLB seasons\n",
    "        for tag in soup.find_all('tfoot'):\n",
    "            for tag2 in tag.find_all('tr', class_='mlb'):\n",
    "                if 'season' in tag2.text:\n",
    "                    df.at[index,'MLB_seasons'] = tag2.text.split('(')[1].split(' ')[0]\n",
    "\n",
    "        #grabbing minors seasons\n",
    "        for tag3 in soup.find_all('tfoot'):\n",
    "            if tag3.find('tr', class_='minors'):\n",
    "                for tag4 in tag3.find('tr', class_='minors'):\n",
    "                    if 'season' in tag4.text:\n",
    "                        df.at[index,'MINORS_seasons'] = tag4.text.split('(')[1].split(' ')[0]\n",
    "                        \n",
    "    return df"
   ]
  },
  {
   "cell_type": "code",
   "execution_count": 40,
   "metadata": {},
   "outputs": [],
   "source": [
    "#running the above function\n",
    "mlb_all = grab_seasons(mlb_only)"
   ]
  },
  {
   "cell_type": "code",
   "execution_count": 41,
   "metadata": {},
   "outputs": [
    {
     "data": {
      "text/html": [
       "<div>\n",
       "<style scoped>\n",
       "    .dataframe tbody tr th:only-of-type {\n",
       "        vertical-align: middle;\n",
       "    }\n",
       "\n",
       "    .dataframe tbody tr th {\n",
       "        vertical-align: top;\n",
       "    }\n",
       "\n",
       "    .dataframe thead th {\n",
       "        text-align: right;\n",
       "    }\n",
       "</style>\n",
       "<table border=\"1\" class=\"dataframe\">\n",
       "  <thead>\n",
       "    <tr style=\"text-align: right;\">\n",
       "      <th></th>\n",
       "      <th>player_name</th>\n",
       "      <th>url_path</th>\n",
       "      <th>MINORS_G</th>\n",
       "      <th>MINORS_AB</th>\n",
       "      <th>MINORS_R</th>\n",
       "      <th>MINORS_H</th>\n",
       "      <th>MINORS_HR</th>\n",
       "      <th>MINORS_RBI</th>\n",
       "      <th>MINORS_BB</th>\n",
       "      <th>MINORS_SO</th>\n",
       "      <th>...</th>\n",
       "      <th>Bats</th>\n",
       "      <th>Height</th>\n",
       "      <th>Weight</th>\n",
       "      <th>Born</th>\n",
       "      <th>Debut</th>\n",
       "      <th>Draft</th>\n",
       "      <th>School</th>\n",
       "      <th>Debut_Age</th>\n",
       "      <th>MLB_seasons</th>\n",
       "      <th>MINORS_seasons</th>\n",
       "    </tr>\n",
       "  </thead>\n",
       "  <tbody>\n",
       "    <tr>\n",
       "      <th>0</th>\n",
       "      <td>Larry Barnes</td>\n",
       "      <td>/register/player.fcgi?id=barnes002lar</td>\n",
       "      <td>1087</td>\n",
       "      <td>4018</td>\n",
       "      <td>627</td>\n",
       "      <td>1141</td>\n",
       "      <td>152</td>\n",
       "      <td>720</td>\n",
       "      <td>377</td>\n",
       "      <td>825</td>\n",
       "      <td>...</td>\n",
       "      <td>Left</td>\n",
       "      <td>73</td>\n",
       "      <td>195</td>\n",
       "      <td>0</td>\n",
       "      <td>0</td>\n",
       "      <td>69</td>\n",
       "      <td>1</td>\n",
       "      <td>NaN</td>\n",
       "      <td>2</td>\n",
       "      <td>11</td>\n",
       "    </tr>\n",
       "    <tr>\n",
       "      <th>1</th>\n",
       "      <td>Justin Baughman</td>\n",
       "      <td>/register/player.fcgi?id=baughm001jus</td>\n",
       "      <td>685</td>\n",
       "      <td>2516</td>\n",
       "      <td>378</td>\n",
       "      <td>652</td>\n",
       "      <td>19</td>\n",
       "      <td>241</td>\n",
       "      <td>205</td>\n",
       "      <td>413</td>\n",
       "      <td>...</td>\n",
       "      <td>Right</td>\n",
       "      <td>71</td>\n",
       "      <td>175</td>\n",
       "      <td>0</td>\n",
       "      <td>0</td>\n",
       "      <td>42</td>\n",
       "      <td>1</td>\n",
       "      <td>NaN</td>\n",
       "      <td>2</td>\n",
       "      <td>7</td>\n",
       "    </tr>\n",
       "    <tr>\n",
       "      <th>2</th>\n",
       "      <td>Jamie Burke</td>\n",
       "      <td>/register/player.fcgi?id=burke-002jam</td>\n",
       "      <td>1255</td>\n",
       "      <td>4352</td>\n",
       "      <td>574</td>\n",
       "      <td>1211</td>\n",
       "      <td>54</td>\n",
       "      <td>541</td>\n",
       "      <td>386</td>\n",
       "      <td>572</td>\n",
       "      <td>...</td>\n",
       "      <td>Right</td>\n",
       "      <td>72</td>\n",
       "      <td>195</td>\n",
       "      <td>0</td>\n",
       "      <td>0</td>\n",
       "      <td>9</td>\n",
       "      <td>1</td>\n",
       "      <td>NaN</td>\n",
       "      <td>8</td>\n",
       "      <td>16</td>\n",
       "    </tr>\n",
       "  </tbody>\n",
       "</table>\n",
       "<p>3 rows × 28 columns</p>\n",
       "</div>"
      ],
      "text/plain": [
       "       player_name                               url_path  MINORS_G  \\\n",
       "0     Larry Barnes  /register/player.fcgi?id=barnes002lar      1087   \n",
       "1  Justin Baughman  /register/player.fcgi?id=baughm001jus       685   \n",
       "2      Jamie Burke  /register/player.fcgi?id=burke-002jam      1255   \n",
       "\n",
       "   MINORS_AB  MINORS_R  MINORS_H  MINORS_HR  MINORS_RBI  MINORS_BB  MINORS_SO  \\\n",
       "0       4018       627      1141        152         720        377        825   \n",
       "1       2516       378       652         19         241        205        413   \n",
       "2       4352       574      1211         54         541        386        572   \n",
       "\n",
       "   ...   Bats  Height  Weight  Born  Debut  Draft  School Debut_Age  \\\n",
       "0  ...   Left      73     195     0      0     69       1       NaN   \n",
       "1  ...  Right      71     175     0      0     42       1       NaN   \n",
       "2  ...  Right      72     195     0      0      9       1       NaN   \n",
       "\n",
       "  MLB_seasons  MINORS_seasons  \n",
       "0           2              11  \n",
       "1           2               7  \n",
       "2           8              16  \n",
       "\n",
       "[3 rows x 28 columns]"
      ]
     },
     "execution_count": 41,
     "metadata": {},
     "output_type": "execute_result"
    }
   ],
   "source": [
    "mlb_all.head(3)"
   ]
  },
  {
   "cell_type": "code",
   "execution_count": 42,
   "metadata": {},
   "outputs": [
    {
     "name": "stderr",
     "output_type": "stream",
     "text": [
      "/Users/samir/opt/anaconda3/envs/metis/lib/python3.7/site-packages/ipykernel_launcher.py:2: SettingWithCopyWarning: \n",
      "A value is trying to be set on a copy of a slice from a DataFrame.\n",
      "Try using .loc[row_indexer,col_indexer] = value instead\n",
      "\n",
      "See the caveats in the documentation: https://pandas.pydata.org/pandas-docs/stable/user_guide/indexing.html#returning-a-view-versus-a-copy\n",
      "  \n"
     ]
    }
   ],
   "source": [
    "#making a new feature\n",
    "mlb_all['MLB_AB_per_season'] = mlb_all['MLB_AB']/mlb_all['MLB_seasons']"
   ]
  },
  {
   "cell_type": "code",
   "execution_count": 926,
   "metadata": {},
   "outputs": [],
   "source": [
    "#saving this new df\n",
    "with open('mlb_only_full.pkl', 'wb') as handle:\n",
    "    pickle.dump(mlb_only, handle, protocol=pickle.HIGHEST_PROTOCOL)"
   ]
  },
  {
   "cell_type": "code",
   "execution_count": 43,
   "metadata": {},
   "outputs": [],
   "source": [
    "#trimming features we already know we are not going to use\n",
    "\n",
    "#option 1 with MLB AB per season being the target variable\n",
    "df2 = mlb_only[['MINORS_OPS','MLB_AB_per_season', 'MINORS_R_per_AB',\n",
    "       'MINORS_SO_per_AB', 'Position', 'Bats', 'Height',\n",
    "       'Weight', 'Draft', 'School', 'Debut_Age']]\n",
    "\n",
    "#option 2 with MLB AB total being the target variable\n",
    "df3 = mlb_only[['MINORS_OPS','MLB_AB', 'MINORS_R_per_AB',\n",
    "       'MINORS_SO_per_AB', 'Position', 'Bats', 'Height',\n",
    "       'Weight', 'Draft', 'School', 'Debut_Age']]"
   ]
  },
  {
   "cell_type": "code",
   "execution_count": 44,
   "metadata": {},
   "outputs": [],
   "source": [
    "#formatting these two new dataframes\n",
    "df2.index=mlb_only['player_name']\n",
    "df3.index=mlb_only['player_name']"
   ]
  },
  {
   "cell_type": "markdown",
   "metadata": {},
   "source": [
    "**I had to redo some of the earlier data cleaning and feature engineering I only applied to dummy_df. So that's why you see some repeated code now**"
   ]
  },
  {
   "cell_type": "code",
   "execution_count": 45,
   "metadata": {},
   "outputs": [],
   "source": [
    "df2 = pd.get_dummies(df2)\n",
    "df3 = pd.get_dummies(df3)"
   ]
  },
  {
   "cell_type": "code",
   "execution_count": 46,
   "metadata": {},
   "outputs": [],
   "source": [
    "df2['bmi'] = (df2.Weight/2.205)/((df2.Height/39.37)**2)\n",
    "df3['bmi'] = (df3.Weight/2.205)/((df3.Height/39.37)**2)"
   ]
  },
  {
   "cell_type": "code",
   "execution_count": 47,
   "metadata": {},
   "outputs": [],
   "source": [
    "df2 = df2.drop(['Height', 'Weight'], axis=1)\n",
    "df3 = df3.drop(['Height', 'Weight'], axis=1)\n"
   ]
  },
  {
   "cell_type": "code",
   "execution_count": 48,
   "metadata": {},
   "outputs": [],
   "source": [
    "df2.rename(columns={\"Position_Third Baseman\":\"Position_Third_Baseman\", \"Position_First Baseman\": \"Position_First_Baseman\", \"Position_Second Baseman\": \"Position_Second_Baseman\"}, inplace=True)\n",
    "df3.rename(columns={\"Position_Third Baseman\":\"Position_Third_Baseman\", \"Position_First Baseman\": \"Position_First_Baseman\", \"Position_Second Baseman\": \"Position_Second_Baseman\"}, inplace=True)"
   ]
  },
  {
   "cell_type": "code",
   "execution_count": 49,
   "metadata": {},
   "outputs": [],
   "source": [
    "df2.loc['Alfonso Soriano'] = df2.loc['Alfonso Soriano'].fillna(0.791)\n",
    "df3.loc['Alfonso Soriano'] = df3.loc['Alfonso Soriano'].fillna(0.791)"
   ]
  },
  {
   "cell_type": "markdown",
   "metadata": {},
   "source": [
    "**Ok done! Now time to save the data and proceed to EDA, Regularization and Validation**"
   ]
  },
  {
   "cell_type": "code",
   "execution_count": 987,
   "metadata": {},
   "outputs": [],
   "source": [
    "with open('per_season_mlb_eda_ready.pkl', 'wb') as handle:\n",
    "    pickle.dump(df2, handle, protocol=pickle.HIGHEST_PROTOCOL)"
   ]
  },
  {
   "cell_type": "code",
   "execution_count": 988,
   "metadata": {},
   "outputs": [],
   "source": [
    "with open('per_ab_mlb_eda_ready.pkl', 'wb') as handle:\n",
    "    pickle.dump(df3, handle, protocol=pickle.HIGHEST_PROTOCOL)"
   ]
  },
  {
   "cell_type": "code",
   "execution_count": null,
   "metadata": {},
   "outputs": [],
   "source": []
  }
 ],
 "metadata": {
  "kernelspec": {
   "display_name": "Python 3",
   "language": "python",
   "name": "python3"
  },
  "language_info": {
   "codemirror_mode": {
    "name": "ipython",
    "version": 3
   },
   "file_extension": ".py",
   "mimetype": "text/x-python",
   "name": "python",
   "nbconvert_exporter": "python",
   "pygments_lexer": "ipython3",
   "version": "3.7.4"
  }
 },
 "nbformat": 4,
 "nbformat_minor": 4
}
